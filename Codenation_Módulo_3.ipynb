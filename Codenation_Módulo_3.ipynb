{
  "nbformat": 4,
  "nbformat_minor": 0,
  "metadata": {
    "colab": {
      "name": "Codenation Módulo 3.ipynb",
      "provenance": [],
      "authorship_tag": "ABX9TyPpn+jWtCDjENxLt61sip33",
      "include_colab_link": true
    },
    "kernelspec": {
      "name": "python3",
      "display_name": "Python 3"
    }
  },
  "cells": [
    {
      "cell_type": "markdown",
      "metadata": {
        "id": "view-in-github",
        "colab_type": "text"
      },
      "source": [
        "<a href=\"https://colab.research.google.com/github/onediojunior/Courses.CognitiveClass.AI/blob/master/Codenation_M%C3%B3dulo_3.ipynb\" target=\"_parent\"><img src=\"https://colab.research.google.com/assets/colab-badge.svg\" alt=\"Open In Colab\"/></a>"
      ]
    },
    {
      "cell_type": "markdown",
      "metadata": {
        "id": "_iJrsAx9G5HI",
        "colab_type": "text"
      },
      "source": [
        "# Explorando o valor do aluguel\n",
        "<hr/>"
      ]
    },
    {
      "cell_type": "markdown",
      "metadata": {
        "id": "GXZ25OY7-OGS",
        "colab_type": "text"
      },
      "source": [
        "dados : https://www.kaggle.com/rubenssjr/brasilian-houses-to-rent\n",
        "<hr/>"
      ]
    },
    {
      "cell_type": "markdown",
      "metadata": {
        "id": "a-THE0r-Ampf",
        "colab_type": "text"
      },
      "source": [
        "Colunas do Dataset\n",
        "* city : cidade onde o imóvel está localizado <br>\n",
        "* area : área do imóvel <br>\n",
        "* rooms: número de quartos <br>\n",
        "* bathroom: número de banheiros <br>\n",
        "* parking spaces: número de vagas <br>\n",
        "* floor: andar <br>\n",
        "* animal: aceita animais? <br>\n",
        "* furniture: mobiliada? <br>\n",
        "* hoa: valor do condominio <br>\n",
        "* rent amount: valor do aluguel <br>\n",
        "* property tax: IPTU <br>\n",
        "* fire insurance: seguro incêndio <br>\n",
        "* total: valor total <br>"
      ]
    },
    {
      "cell_type": "code",
      "metadata": {
        "id": "TX40eieN0byG",
        "colab_type": "code",
        "colab": {}
      },
      "source": [
        "import pandas as pd\n",
        "import numpy as np\n",
        "from matplotlib import pyplot as plt\n",
        "%matplotlib inline"
      ],
      "execution_count": 1,
      "outputs": []
    },
    {
      "cell_type": "code",
      "metadata": {
        "id": "jpqztp6U-muH",
        "colab_type": "code",
        "colab": {}
      },
      "source": [
        "df = pd.read_csv(\"/content/datasets_554905_1035602_houses_to_rent_v2.csv\")"
      ],
      "execution_count": 3,
      "outputs": []
    },
    {
      "cell_type": "code",
      "metadata": {
        "id": "-N9cvGdL--lJ",
        "colab_type": "code",
        "colab": {
          "base_uri": "https://localhost:8080/",
          "height": 204
        },
        "outputId": "fcb9c790-c0d6-44b7-e8c6-081fa9475e6b"
      },
      "source": [
        "df.head()"
      ],
      "execution_count": null,
      "outputs": [
        {
          "output_type": "execute_result",
          "data": {
            "text/html": [
              "<div>\n",
              "<style scoped>\n",
              "    .dataframe tbody tr th:only-of-type {\n",
              "        vertical-align: middle;\n",
              "    }\n",
              "\n",
              "    .dataframe tbody tr th {\n",
              "        vertical-align: top;\n",
              "    }\n",
              "\n",
              "    .dataframe thead th {\n",
              "        text-align: right;\n",
              "    }\n",
              "</style>\n",
              "<table border=\"1\" class=\"dataframe\">\n",
              "  <thead>\n",
              "    <tr style=\"text-align: right;\">\n",
              "      <th></th>\n",
              "      <th>city</th>\n",
              "      <th>area</th>\n",
              "      <th>rooms</th>\n",
              "      <th>bathroom</th>\n",
              "      <th>parking spaces</th>\n",
              "      <th>floor</th>\n",
              "      <th>animal</th>\n",
              "      <th>furniture</th>\n",
              "      <th>hoa (R$)</th>\n",
              "      <th>rent amount (R$)</th>\n",
              "      <th>property tax (R$)</th>\n",
              "      <th>fire insurance (R$)</th>\n",
              "      <th>total (R$)</th>\n",
              "    </tr>\n",
              "  </thead>\n",
              "  <tbody>\n",
              "    <tr>\n",
              "      <th>0</th>\n",
              "      <td>São Paulo</td>\n",
              "      <td>70</td>\n",
              "      <td>2</td>\n",
              "      <td>1</td>\n",
              "      <td>1</td>\n",
              "      <td>7</td>\n",
              "      <td>acept</td>\n",
              "      <td>furnished</td>\n",
              "      <td>2065</td>\n",
              "      <td>3300</td>\n",
              "      <td>211</td>\n",
              "      <td>42</td>\n",
              "      <td>5618</td>\n",
              "    </tr>\n",
              "    <tr>\n",
              "      <th>1</th>\n",
              "      <td>São Paulo</td>\n",
              "      <td>320</td>\n",
              "      <td>4</td>\n",
              "      <td>4</td>\n",
              "      <td>0</td>\n",
              "      <td>20</td>\n",
              "      <td>acept</td>\n",
              "      <td>not furnished</td>\n",
              "      <td>1200</td>\n",
              "      <td>4960</td>\n",
              "      <td>1750</td>\n",
              "      <td>63</td>\n",
              "      <td>7973</td>\n",
              "    </tr>\n",
              "    <tr>\n",
              "      <th>2</th>\n",
              "      <td>Porto Alegre</td>\n",
              "      <td>80</td>\n",
              "      <td>1</td>\n",
              "      <td>1</td>\n",
              "      <td>1</td>\n",
              "      <td>6</td>\n",
              "      <td>acept</td>\n",
              "      <td>not furnished</td>\n",
              "      <td>1000</td>\n",
              "      <td>2800</td>\n",
              "      <td>0</td>\n",
              "      <td>41</td>\n",
              "      <td>3841</td>\n",
              "    </tr>\n",
              "    <tr>\n",
              "      <th>3</th>\n",
              "      <td>Porto Alegre</td>\n",
              "      <td>51</td>\n",
              "      <td>2</td>\n",
              "      <td>1</td>\n",
              "      <td>0</td>\n",
              "      <td>2</td>\n",
              "      <td>acept</td>\n",
              "      <td>not furnished</td>\n",
              "      <td>270</td>\n",
              "      <td>1112</td>\n",
              "      <td>22</td>\n",
              "      <td>17</td>\n",
              "      <td>1421</td>\n",
              "    </tr>\n",
              "    <tr>\n",
              "      <th>4</th>\n",
              "      <td>São Paulo</td>\n",
              "      <td>25</td>\n",
              "      <td>1</td>\n",
              "      <td>1</td>\n",
              "      <td>0</td>\n",
              "      <td>1</td>\n",
              "      <td>not acept</td>\n",
              "      <td>not furnished</td>\n",
              "      <td>0</td>\n",
              "      <td>800</td>\n",
              "      <td>25</td>\n",
              "      <td>11</td>\n",
              "      <td>836</td>\n",
              "    </tr>\n",
              "  </tbody>\n",
              "</table>\n",
              "</div>"
            ],
            "text/plain": [
              "           city  area  ...  fire insurance (R$)  total (R$)\n",
              "0     São Paulo    70  ...                   42        5618\n",
              "1     São Paulo   320  ...                   63        7973\n",
              "2  Porto Alegre    80  ...                   41        3841\n",
              "3  Porto Alegre    51  ...                   17        1421\n",
              "4     São Paulo    25  ...                   11         836\n",
              "\n",
              "[5 rows x 13 columns]"
            ]
          },
          "metadata": {
            "tags": []
          },
          "execution_count": 11
        }
      ]
    },
    {
      "cell_type": "code",
      "metadata": {
        "id": "oru6ndWDAfI4",
        "colab_type": "code",
        "colab": {
          "base_uri": "https://localhost:8080/",
          "height": 85
        },
        "outputId": "6dab17e7-49c3-47b9-b5d8-3a81c18db2c9"
      },
      "source": [
        "df.columns"
      ],
      "execution_count": null,
      "outputs": [
        {
          "output_type": "execute_result",
          "data": {
            "text/plain": [
              "Index(['city', 'area', 'rooms', 'bathroom', 'parking spaces', 'floor',\n",
              "       'animal', 'furniture', 'hoa (R$)', 'rent amount (R$)',\n",
              "       'property tax (R$)', 'fire insurance (R$)', 'total (R$)'],\n",
              "      dtype='object')"
            ]
          },
          "metadata": {
            "tags": []
          },
          "execution_count": 12
        }
      ]
    },
    {
      "cell_type": "code",
      "metadata": {
        "id": "z8J9NBnoAiPW",
        "colab_type": "code",
        "colab": {
          "base_uri": "https://localhost:8080/",
          "height": 68
        },
        "outputId": "07536696-056f-4cb0-9182-3b21848b7c6b"
      },
      "source": [
        "df.dtypes.value_counts()"
      ],
      "execution_count": null,
      "outputs": [
        {
          "output_type": "execute_result",
          "data": {
            "text/plain": [
              "int64     9\n",
              "object    4\n",
              "dtype: int64"
            ]
          },
          "metadata": {
            "tags": []
          },
          "execution_count": 15
        }
      ]
    },
    {
      "cell_type": "code",
      "metadata": {
        "id": "um6nQiszDXn-",
        "colab_type": "code",
        "colab": {
          "base_uri": "https://localhost:8080/",
          "height": 34
        },
        "outputId": "971b3068-e01a-4c48-fd2d-84698af8e363"
      },
      "source": [
        "# apresenta a quantidade de instâncias\n",
        "print(f\"Quantidade de registros: {df.shape[0]}\")"
      ],
      "execution_count": null,
      "outputs": [
        {
          "output_type": "stream",
          "text": [
            "Quantidade de registros: 10692\n"
          ],
          "name": "stdout"
        }
      ]
    },
    {
      "cell_type": "code",
      "metadata": {
        "id": "WWNZ7U6uDv5b",
        "colab_type": "code",
        "colab": {
          "base_uri": "https://localhost:8080/",
          "height": 255
        },
        "outputId": "b3e35e1b-6d0b-4875-823e-1bcc71a26170"
      },
      "source": [
        "# verificando se há campo nulo e seu quantitativo\n",
        "df.isna().sum()"
      ],
      "execution_count": null,
      "outputs": [
        {
          "output_type": "execute_result",
          "data": {
            "text/plain": [
              "city                   0\n",
              "area                   0\n",
              "rooms                  0\n",
              "bathroom               0\n",
              "parking spaces         0\n",
              "floor                  0\n",
              "animal                 0\n",
              "furniture              0\n",
              "hoa (R$)               0\n",
              "rent amount (R$)       0\n",
              "property tax (R$)      0\n",
              "fire insurance (R$)    0\n",
              "total (R$)             0\n",
              "dtype: int64"
            ]
          },
          "metadata": {
            "tags": []
          },
          "execution_count": 18
        }
      ]
    },
    {
      "cell_type": "code",
      "metadata": {
        "id": "Ub3FjAANFmiW",
        "colab_type": "code",
        "colab": {
          "base_uri": "https://localhost:8080/",
          "height": 357
        },
        "outputId": "351ef708-8646-4f3b-8ac7-e2756b51bccb"
      },
      "source": [
        "df.info()"
      ],
      "execution_count": null,
      "outputs": [
        {
          "output_type": "stream",
          "text": [
            "<class 'pandas.core.frame.DataFrame'>\n",
            "RangeIndex: 10692 entries, 0 to 10691\n",
            "Data columns (total 13 columns):\n",
            " #   Column               Non-Null Count  Dtype \n",
            "---  ------               --------------  ----- \n",
            " 0   city                 10692 non-null  object\n",
            " 1   area                 10692 non-null  int64 \n",
            " 2   rooms                10692 non-null  int64 \n",
            " 3   bathroom             10692 non-null  int64 \n",
            " 4   parking spaces       10692 non-null  int64 \n",
            " 5   floor                10692 non-null  object\n",
            " 6   animal               10692 non-null  object\n",
            " 7   furniture            10692 non-null  object\n",
            " 8   hoa (R$)             10692 non-null  int64 \n",
            " 9   rent amount (R$)     10692 non-null  int64 \n",
            " 10  property tax (R$)    10692 non-null  int64 \n",
            " 11  fire insurance (R$)  10692 non-null  int64 \n",
            " 12  total (R$)           10692 non-null  int64 \n",
            "dtypes: int64(9), object(4)\n",
            "memory usage: 1.1+ MB\n"
          ],
          "name": "stdout"
        }
      ]
    },
    {
      "cell_type": "markdown",
      "metadata": {
        "id": "IgB6RxkaGtut",
        "colab_type": "text"
      },
      "source": [
        "## Estatística Univariada\n",
        "<hr/>"
      ]
    },
    {
      "cell_type": "code",
      "metadata": {
        "id": "hIGn6cwNFvqA",
        "colab_type": "code",
        "colab": {}
      },
      "source": [
        "# renomeando a coluna rent amount (R$)\n",
        "df.rename(columns= {\"rent amount (R$)\" : \"valor_aluguel\"}, inplace=True)"
      ],
      "execution_count": 4,
      "outputs": []
    },
    {
      "cell_type": "code",
      "metadata": {
        "id": "uB74X7kyH3sj",
        "colab_type": "code",
        "colab": {
          "base_uri": "https://localhost:8080/",
          "height": 34
        },
        "outputId": "0cb02d54-e196-45d6-cc6e-0271df1462b5"
      },
      "source": [
        "# verificando o valor médio dos aluguéis \n",
        "print(f\"Valor médio dos aluguéis: {np.round(df.valor_aluguel.mean(), decimals=2)}\")"
      ],
      "execution_count": null,
      "outputs": [
        {
          "output_type": "stream",
          "text": [
            "Valor médio dos aluguéis: 3896.25\n"
          ],
          "name": "stdout"
        }
      ]
    },
    {
      "cell_type": "code",
      "metadata": {
        "id": "auOA0GxfInEz",
        "colab_type": "code",
        "colab": {
          "base_uri": "https://localhost:8080/",
          "height": 34
        },
        "outputId": "47d90135-8da7-472b-ba54-1686e189113a"
      },
      "source": [
        "# verificando o aluguel mais baixo\n",
        "print(f\"Aluguel mais baixo no dataset: {df.valor_aluguel.min()}\")"
      ],
      "execution_count": null,
      "outputs": [
        {
          "output_type": "stream",
          "text": [
            "Aluguel mais baixo no dataset: 450\n"
          ],
          "name": "stdout"
        }
      ]
    },
    {
      "cell_type": "code",
      "metadata": {
        "id": "BcsgsnXwI8xQ",
        "colab_type": "code",
        "colab": {
          "base_uri": "https://localhost:8080/",
          "height": 34
        },
        "outputId": "08b206f4-b5eb-47c4-ac68-305fabcc3457"
      },
      "source": [
        "# verificando o aluguel mais alto\n",
        "print(f\"Aluguel mais baixo no dataset: {df.valor_aluguel.max()}\")"
      ],
      "execution_count": null,
      "outputs": [
        {
          "output_type": "stream",
          "text": [
            "Aluguel mais baixo no dataset: 45000\n"
          ],
          "name": "stdout"
        }
      ]
    },
    {
      "cell_type": "code",
      "metadata": {
        "id": "pjye0AU8JBsT",
        "colab_type": "code",
        "colab": {
          "base_uri": "https://localhost:8080/",
          "height": 34
        },
        "outputId": "cc4a4521-9343-478f-e509-26a620f1da63"
      },
      "source": [
        "# verificando a mediana do dataset\n",
        "print(f\"Mediana do dataset: {df.valor_aluguel.median()}\")"
      ],
      "execution_count": null,
      "outputs": [
        {
          "output_type": "stream",
          "text": [
            "Mediana do dataset: 2661.0\n"
          ],
          "name": "stdout"
        }
      ]
    },
    {
      "cell_type": "markdown",
      "metadata": {
        "id": "RpdPTCgCKkfs",
        "colab_type": "text"
      },
      "source": [
        "Obs: Diferença alta entre média e mediana (possíveis outliers)."
      ]
    },
    {
      "cell_type": "code",
      "metadata": {
        "id": "Q4kXrJGcJUcB",
        "colab_type": "code",
        "colab": {
          "base_uri": "https://localhost:8080/",
          "height": 281
        },
        "outputId": "02b897d4-d766-4776-8755-76b1b79bbf39"
      },
      "source": [
        "# traçando um gráfico boxplot\n",
        "plt.boxplot(x=df.valor_aluguel)\n",
        "plt.title(\"BOXPLOT SOBRE OS VALORES DOS ALUGUÉIS\")\n",
        "plt.show()\n"
      ],
      "execution_count": null,
      "outputs": [
        {
          "output_type": "display_data",
          "data": {
            "image/png": "[encoded data removed]",
            "text/plain": [
              "<Figure size 432x288 with 1 Axes>"
            ]
          },
          "metadata": {
            "tags": [],
            "needs_background": "light"
          }
        }
      ]
    },
    {
      "cell_type": "markdown",
      "metadata": {
        "id": "lUv7jMWzKVTH",
        "colab_type": "text"
      },
      "source": [
        "Obs: Conforme gráfico de boxplot podemos verificar a existência de outliers no dataset analisado. "
      ]
    },
    {
      "cell_type": "code",
      "metadata": {
        "id": "dfhS3CJWJ23S",
        "colab_type": "code",
        "colab": {
          "base_uri": "https://localhost:8080/",
          "height": 34
        },
        "outputId": "e06085e0-158f-4a97-9b30-620a6cfb5f0f"
      },
      "source": [
        "# verificando o desvio padrão dos dados\n",
        "print(f\"Desvio padrão: {np.round(df.valor_aluguel.std(), decimals=3)}\")"
      ],
      "execution_count": null,
      "outputs": [
        {
          "output_type": "stream",
          "text": [
            "Desvio padrão: 3408.546\n"
          ],
          "name": "stdout"
        }
      ]
    },
    {
      "cell_type": "markdown",
      "metadata": {
        "id": "sANKFCjuLEsh",
        "colab_type": "text"
      },
      "source": [
        "O desvio padrão alto nos confirma que os dados são dispersos."
      ]
    },
    {
      "cell_type": "code",
      "metadata": {
        "id": "NNW_wv2xK8NC",
        "colab_type": "code",
        "colab": {
          "base_uri": "https://localhost:8080/",
          "height": 170
        },
        "outputId": "953a23a3-284a-460a-a180-fdaaf808e8bb"
      },
      "source": [
        "df.valor_aluguel.describe()"
      ],
      "execution_count": null,
      "outputs": [
        {
          "output_type": "execute_result",
          "data": {
            "text/plain": [
              "count    10692.000000\n",
              "mean      3896.247194\n",
              "std       3408.545518\n",
              "min        450.000000\n",
              "25%       1530.000000\n",
              "50%       2661.000000\n",
              "75%       5000.000000\n",
              "max      45000.000000\n",
              "Name: valor_aluguel, dtype: float64"
            ]
          },
          "metadata": {
            "tags": []
          },
          "execution_count": 33
        }
      ]
    },
    {
      "cell_type": "code",
      "metadata": {
        "id": "bGglwYAJLcbN",
        "colab_type": "code",
        "colab": {
          "base_uri": "https://localhost:8080/",
          "height": 295
        },
        "outputId": "da14f73e-3741-4c1c-b6de-adc793bc7729"
      },
      "source": [
        "# criando um histograma sobre a coluna volor do aluguel\n",
        "plt.hist(x=df.valor_aluguel, bins=50)\n",
        "plt.title(\"Histograma Valor do Aluguel\")\n",
        "plt.xlabel(\"Valor do imóvel\")\n",
        "plt.ylabel(\"Quantitativo de imóveis\")\n",
        "plt.show()"
      ],
      "execution_count": null,
      "outputs": [
        {
          "output_type": "display_data",
          "data": {
            "image/png": "[encoded data removed]",
            "text/plain": [
              "<Figure size 432x288 with 1 Axes>"
            ]
          },
          "metadata": {
            "tags": [],
            "needs_background": "light"
          }
        }
      ]
    },
    {
      "cell_type": "code",
      "metadata": {
        "id": "jb7AyJoZL-ba",
        "colab_type": "code",
        "colab": {
          "base_uri": "https://localhost:8080/",
          "height": 34
        },
        "outputId": "2dd016cf-f3a5-425b-dcae-1a9752daa5b3"
      },
      "source": [
        "# skewness positive skew\n",
        "df.valor_aluguel.skew()"
      ],
      "execution_count": null,
      "outputs": [
        {
          "output_type": "execute_result",
          "data": {
            "text/plain": [
              "1.8388773035440982"
            ]
          },
          "metadata": {
            "tags": []
          },
          "execution_count": 39
        }
      ]
    },
    {
      "cell_type": "code",
      "metadata": {
        "id": "yM8ErCbNOn5m",
        "colab_type": "code",
        "colab": {
          "base_uri": "https://localhost:8080/",
          "height": 34
        },
        "outputId": "a55f21f7-aad9-4eb2-c6f5-875a70a3b057"
      },
      "source": [
        "# kurtose - leptocurtica\n",
        "df.valor_aluguel.kurtosis()"
      ],
      "execution_count": null,
      "outputs": [
        {
          "output_type": "execute_result",
          "data": {
            "text/plain": [
              "4.624228179818687"
            ]
          },
          "metadata": {
            "tags": []
          },
          "execution_count": 40
        }
      ]
    },
    {
      "cell_type": "markdown",
      "metadata": {
        "id": "JJ8PySY5PE7u",
        "colab_type": "text"
      },
      "source": [
        "## Estatística Bivariada e Multivariada\n",
        "<hr/>"
      ]
    },
    {
      "cell_type": "markdown",
      "metadata": {
        "id": "b4-1_uqZPblX",
        "colab_type": "text"
      },
      "source": [
        "###Correlação\n",
        "* medida padronizada da relação entre duas variáveis\n",
        "* indica a força (correlação forte, fraca, nula) e a direção do relacionamento das duas variáveis (positiva ou negativa)"
      ]
    },
    {
      "cell_type": "markdown",
      "metadata": {
        "id": "ZAAJV8KcSQV0",
        "colab_type": "text"
      },
      "source": [
        "### Correlação de Spearman\n",
        "Avalia a relação entre duas variáveis qualitativas ordinais ou entre uma variável quantitativa e uma qualitativa ordinal"
      ]
    },
    {
      "cell_type": "code",
      "metadata": {
        "id": "zzFRTBqLdCQ1",
        "colab_type": "code",
        "colab": {}
      },
      "source": [
        ""
      ],
      "execution_count": null,
      "outputs": []
    },
    {
      "cell_type": "markdown",
      "metadata": {
        "id": "UJjHRlyMdEPq",
        "colab_type": "text"
      },
      "source": [
        "### Perguntas\n",
        "<hr/>\n",
        "1) Qual a cidade com a média de aluguel mais alta? <br>\n",
        "2) Quantos banheiros existem nas residências com alguéis mais altos? <br>\n",
        "3) Os imóveis mais caros aceitam animais? <br>\n",
        "4) Os imóveis mais caros são mobiliados? <br>"
      ]
    },
    {
      "cell_type": "code",
      "metadata": {
        "id": "ZU4mhUB-e4rr",
        "colab_type": "code",
        "colab": {
          "base_uri": "https://localhost:8080/",
          "height": 170
        },
        "outputId": "0dc171fe-368d-4582-c6b4-dec2c2b59530"
      },
      "source": [
        "# Qual a cidade com a média de aluguel mais cara\n",
        "valor_aluguel_cidade = df.groupby(\"city\")[\"valor_aluguel\"].mean().reset_index().sort_values(\"valor_aluguel\", ascending = False)\n",
        "print(df.groupby(\"city\")[\"valor_aluguel\"].mean().reset_index().sort_values(\"valor_aluguel\", ascending = False))\n",
        "print(f\"\\n\\nCidade com média de aluguel mais alta: {valor_aluguel_cidade.city.iloc[0]}\")"
      ],
      "execution_count": null,
      "outputs": [
        {
          "output_type": "stream",
          "text": [
            "             city  valor_aluguel\n",
            "4       São Paulo    4652.793783\n",
            "0  Belo Horizonte    3664.127981\n",
            "3  Rio de Janeiro    3232.904064\n",
            "1        Campinas    2364.290739\n",
            "2    Porto Alegre    2337.699916\n",
            "\n",
            "\n",
            "Cidade com média de aluguel mais alta: São Paulo\n"
          ],
          "name": "stdout"
        }
      ]
    },
    {
      "cell_type": "code",
      "metadata": {
        "id": "I5pSqF43iFGP",
        "colab_type": "code",
        "colab": {
          "base_uri": "https://localhost:8080/",
          "height": 170
        },
        "outputId": "a79e7531-03c0-44b4-c254-409d59f4d316"
      },
      "source": [
        "df[\"valor_aluguel\"].describe()"
      ],
      "execution_count": null,
      "outputs": [
        {
          "output_type": "execute_result",
          "data": {
            "text/plain": [
              "count    10692.000000\n",
              "mean      3896.247194\n",
              "std       3408.545518\n",
              "min        450.000000\n",
              "25%       1530.000000\n",
              "50%       2661.000000\n",
              "75%       5000.000000\n",
              "max      45000.000000\n",
              "Name: valor_aluguel, dtype: float64"
            ]
          },
          "metadata": {
            "tags": []
          },
          "execution_count": 53
        }
      ]
    },
    {
      "cell_type": "markdown",
      "metadata": {
        "id": "eFs1ylSiiPMT",
        "colab_type": "text"
      },
      "source": [
        "Obs: Aluguéis mais altos serão os que estão acima 3º Quartil (R$ 5.000,00)."
      ]
    },
    {
      "cell_type": "code",
      "metadata": {
        "id": "JNMg77mTjqJg",
        "colab_type": "code",
        "colab": {}
      },
      "source": [
        "# criando uam coluna definindo valor alto e baixa, conforme valor do aluguel\n",
        "\n",
        "df[\"classificacao_aluguel\"] = [\"Alto\" if x > 5000 else \"Baixo\" for x in df[\"valor_aluguel\"]]"
      ],
      "execution_count": null,
      "outputs": []
    },
    {
      "cell_type": "code",
      "metadata": {
        "id": "Vrj51f0SkBBp",
        "colab_type": "code",
        "colab": {
          "base_uri": "https://localhost:8080/",
          "height": 153
        },
        "outputId": "3285ad6e-d5cd-4ae6-e351-4e0a878f29e1"
      },
      "source": [
        "# verificando as 5 primeiras linhas da coluna classificacao_aluguel\n",
        "df.classificacao_aluguel.head(7)"
      ],
      "execution_count": null,
      "outputs": [
        {
          "output_type": "execute_result",
          "data": {
            "text/plain": [
              "0    Baixo\n",
              "1    Baixo\n",
              "2    Baixo\n",
              "3    Baixo\n",
              "4    Baixo\n",
              "5     Alto\n",
              "6    Baixo\n",
              "Name: classificacao_aluguel, dtype: object"
            ]
          },
          "metadata": {
            "tags": []
          },
          "execution_count": 58
        }
      ]
    },
    {
      "cell_type": "code",
      "metadata": {
        "id": "NkcOW1VrkYfV",
        "colab_type": "code",
        "colab": {
          "base_uri": "https://localhost:8080/",
          "height": 68
        },
        "outputId": "fa857985-69b4-4df1-a010-84a2ea79afdf"
      },
      "source": [
        "# realizando a contagem dos valores Alto e Baixo\n",
        "df[\"classificacao_aluguel\"].value_counts()"
      ],
      "execution_count": null,
      "outputs": [
        {
          "output_type": "execute_result",
          "data": {
            "text/plain": [
              "Baixo    8153\n",
              "Alto     2539\n",
              "Name: classificacao_aluguel, dtype: int64"
            ]
          },
          "metadata": {
            "tags": []
          },
          "execution_count": 62
        }
      ]
    },
    {
      "cell_type": "code",
      "metadata": {
        "id": "FmAEmEjwhgXg",
        "colab_type": "code",
        "colab": {
          "base_uri": "https://localhost:8080/",
          "height": 34
        },
        "outputId": "e5abcc21-c1fd-4429-f9b8-a912c1f7f25d"
      },
      "source": [
        "# Quantos banheiros existem nas residências com aluguéis mais altos\n",
        "df_alugueis_altos = df[df.valor_aluguel > 5000]\n",
        "media_banheiro = np.round(df_alugueis_altos.bathroom.mean())\n",
        "print(f\"Média de banheiros nas casas de alguéis alto: {media_banheiro}\")\n"
      ],
      "execution_count": null,
      "outputs": [
        {
          "output_type": "stream",
          "text": [
            "Média de banheiros nas casas de alguéis alto: 4.0\n"
          ],
          "name": "stdout"
        }
      ]
    },
    {
      "cell_type": "code",
      "metadata": {
        "id": "EZu6T-c8lBXy",
        "colab_type": "code",
        "colab": {
          "base_uri": "https://localhost:8080/",
          "height": 85
        },
        "outputId": "6748ad44-e5a4-4419-e67c-f1374fa0a674"
      },
      "source": [
        "# Quantos banheiros existem nas residências com aluguéis mais altos - 2 Forma\n",
        "df.groupby(\"classificacao_aluguel\")[\"bathroom\"].mean()"
      ],
      "execution_count": null,
      "outputs": [
        {
          "output_type": "execute_result",
          "data": {
            "text/plain": [
              "classificacao_aluguel\n",
              "Alto     3.729027\n",
              "Baixo    1.772108\n",
              "Name: bathroom, dtype: float64"
            ]
          },
          "metadata": {
            "tags": []
          },
          "execution_count": 64
        }
      ]
    },
    {
      "cell_type": "markdown",
      "metadata": {
        "id": "2-hs4jAMdwzI",
        "colab_type": "text"
      },
      "source": [
        "###Hipóteses\n",
        "<hr/>\n",
        "1) São Paulo é a cidade com o aluguel mais caro <br>\n",
        "2) Quanto mais banheiro em um imóvel maior o valor do aluguel <br>\n",
        "3) Os imóveis mobiliados tem o alguel mais caro"
      ]
    },
    {
      "cell_type": "code",
      "metadata": {
        "id": "2_gGA2O3Oxae",
        "colab_type": "code",
        "colab": {
          "base_uri": "https://localhost:8080/",
          "height": 68
        },
        "outputId": "1a147246-68c2-4f2b-91a8-a6e6e75e68fe"
      },
      "source": [
        "# verifcando a correlação de pearson para os atributos valor_aluguel e bathroom\n",
        "# Quanto mais banheiro em um imóvel maior o valor do aluguel\n",
        "correlacao = df[[\"valor_aluguel\",\"bathroom\"]].corr(method=\"pearson\")\n",
        "print(correlacao)"
      ],
      "execution_count": null,
      "outputs": [
        {
          "output_type": "stream",
          "text": [
            "               valor_aluguel  bathroom\n",
            "valor_aluguel       1.000000  0.668504\n",
            "bathroom            0.668504  1.000000\n"
          ],
          "name": "stdout"
        }
      ]
    },
    {
      "cell_type": "code",
      "metadata": {
        "id": "pbbcYEWe1sOR",
        "colab_type": "code",
        "colab": {}
      },
      "source": [
        "import seaborn as sbn"
      ],
      "execution_count": 6,
      "outputs": []
    },
    {
      "cell_type": "code",
      "metadata": {
        "id": "aeGQihUV4FoL",
        "colab_type": "code",
        "colab": {
          "base_uri": "https://localhost:8080/",
          "height": 315
        },
        "outputId": "82f6c6d1-05fb-4850-89ed-70025d879c79"
      },
      "source": [
        "corr = df[[\"valor_aluguel\",\"bathroom\",\"area\"]].corr()\n",
        "ax = sbn.heatmap(\n",
        "    corr, \n",
        "    vmin=-1, vmax=1, center=0,\n",
        "    cmap=sbn.diverging_palette(20, 220, n=200),\n",
        "    square=True\n",
        ")\n",
        "ax.set_xticklabels(\n",
        "    ax.get_xticklabels(),\n",
        "    rotation=45,\n",
        "    horizontalalignment='right'\n",
        ");"
      ],
      "execution_count": null,
      "outputs": [
        {
          "output_type": "display_data",
          "data": {
            "image/png": "[encoded data removed]",
            "text/plain": [
              "<Figure size 432x288 with 2 Axes>"
            ]
          },
          "metadata": {
            "tags": [],
            "needs_background": "light"
          }
        }
      ]
    },
    {
      "cell_type": "markdown",
      "metadata": {
        "id": "G92zzlVioi4w",
        "colab_type": "text"
      },
      "source": [
        "Obs: pelo resultado das comparações existe uma correlação mais forte com o atributo banheiro do que área."
      ]
    },
    {
      "cell_type": "markdown",
      "metadata": {
        "id": "I5naREXEozXi",
        "colab_type": "text"
      },
      "source": [
        "### Visualizações\n",
        "* Histogram: distribução de frequência \n",
        "* Box Plot : variação de dados observados de uma variável numérica por meio de caixa \n",
        "* Scatter Plot : representa duas (tipicamente) ou mais variáveis \n",
        "* Correlação : apresentação das correlação em uma matrix \n",
        "* Linear: \n",
        "* Bar:"
      ]
    },
    {
      "cell_type": "code",
      "metadata": {
        "id": "f_FSOEAB4ilG",
        "colab_type": "code",
        "colab": {
          "base_uri": "https://localhost:8080/",
          "height": 296
        },
        "outputId": "80252a1f-84e3-4853-d8c9-b0590974d9f5"
      },
      "source": [
        "sbn.countplot(x=\"city\", data=df);"
      ],
      "execution_count": 23,
      "outputs": [
        {
          "output_type": "display_data",
          "data": {
            "image/png": "[encoded data removed]",
            "text/plain": [
              "<Figure size 432x288 with 1 Axes>"
            ]
          },
          "metadata": {
            "tags": [],
            "needs_background": "light"
          }
        }
      ]
    },
    {
      "cell_type": "code",
      "metadata": {
        "id": "qB0yCb26rQ83",
        "colab_type": "code",
        "colab": {
          "base_uri": "https://localhost:8080/",
          "height": 136
        },
        "outputId": "8a7cefcd-c444-4fa2-8c0d-95d73dc03a9a"
      },
      "source": [
        "# verificando os valores usando value_counts\n",
        "df[\"city\"].value_counts()"
      ],
      "execution_count": 24,
      "outputs": [
        {
          "output_type": "execute_result",
          "data": {
            "text/plain": [
              "São Paulo         5887\n",
              "Rio de Janeiro    1501\n",
              "Belo Horizonte    1258\n",
              "Porto Alegre      1193\n",
              "Campinas           853\n",
              "Name: city, dtype: int64"
            ]
          },
          "metadata": {
            "tags": []
          },
          "execution_count": 24
        }
      ]
    },
    {
      "cell_type": "code",
      "metadata": {
        "id": "zIxWc-rTtfhb",
        "colab_type": "code",
        "colab": {
          "base_uri": "https://localhost:8080/",
          "height": 367
        },
        "outputId": "66120c52-f350-4733-f1ac-01306b853e37"
      },
      "source": [
        "# gerando gráfico de barra cidade x valor do aluguel média praticada\n",
        "plt.figure(figsize=(11,5))\n",
        "plt.xlabel(\"\")\n",
        "plt.title(\"Média do Valor do Aluguel por Cidade\")\n",
        "sbn.barplot(x=\"city\", y=\"valor_aluguel\", data=df.groupby(\"city\")[\"valor_aluguel\"].mean().reset_index());"
      ],
      "execution_count": 32,
      "outputs": [
        {
          "output_type": "display_data",
          "data": {
            "image/png": "[encoded data removed]",
            "text/plain": [
              "<Figure size 792x360 with 1 Axes>"
            ]
          },
          "metadata": {
            "tags": [],
            "needs_background": "light"
          }
        }
      ]
    },
    {
      "cell_type": "code",
      "metadata": {
        "id": "ghaaU6rDt28u",
        "colab_type": "code",
        "colab": {
          "base_uri": "https://localhost:8080/",
          "height": 587
        },
        "outputId": "a182794e-2ade-4640-8675-2213db26b1ad"
      },
      "source": [
        "plt.figure(figsize=(11,8))\n",
        "sbn.heatmap(df.corr(), annot=True)\n",
        "plt.show()"
      ],
      "execution_count": 37,
      "outputs": [
        {
          "output_type": "display_data",
          "data": {
            "image/png": "[encoded data removed]",
            "text/plain": [
              "<Figure size 792x576 with 2 Axes>"
            ]
          },
          "metadata": {
            "tags": [],
            "needs_background": "light"
          }
        }
      ]
    },
    {
      "cell_type": "code",
      "metadata": {
        "id": "JMNGcAet7pTj",
        "colab_type": "code",
        "colab": {}
      },
      "source": [
        ""
      ],
      "execution_count": null,
      "outputs": []
    }
  ]
}