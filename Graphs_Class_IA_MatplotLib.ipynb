{
  "nbformat": 4,
  "nbformat_minor": 0,
  "metadata": {
    "colab": {
      "name": "Graphs_Class_IA_MatplotLib.ipynb",
      "provenance": [],
      "collapsed_sections": [],
      "authorship_tag": "ABX9TyMFdHSgumy+zHvNL9u1s+Sg",
      "include_colab_link": true
    },
    "kernelspec": {
      "name": "python3",
      "display_name": "Python 3"
    }
  },
  "cells": [
    {
      "cell_type": "markdown",
      "metadata": {
        "id": "view-in-github",
        "colab_type": "text"
      },
      "source": [
        "<a href=\"https://colab.research.google.com/github/onediojunior/Courses.CognitiveClass.AI/blob/master/Graphs_Class_IA_MatplotLib.ipynb\" target=\"_parent\"><img src=\"https://colab.research.google.com/assets/colab-badge.svg\" alt=\"Open In Colab\"/></a>"
      ]
    },
    {
      "cell_type": "code",
      "metadata": {
        "id": "b5Y0ScJ1Cif6",
        "colab_type": "code",
        "colab": {}
      },
      "source": [
        "from matplotlib import pyplot as plt\n",
        "import pandas as pd\n",
        "from folium import plugins\n",
        "%matplotlib inline"
      ],
      "execution_count": 88,
      "outputs": []
    },
    {
      "cell_type": "code",
      "metadata": {
        "id": "_AQ2yjPRDNyB",
        "colab_type": "code",
        "colab": {}
      },
      "source": [
        "# baixando dados do Dados Abertos sobre Organizações Militares\n",
        "df = pd.read_csv(\"http://dadosabertos.eb.mil.br/arquivos/organizacao-militar/orgao2019.csv\")"
      ],
      "execution_count": 48,
      "outputs": []
    },
    {
      "cell_type": "code",
      "metadata": {
        "id": "rzL1sJT4szbW",
        "colab_type": "code",
        "colab": {
          "base_uri": "https://localhost:8080/",
          "height": 204
        },
        "outputId": "f953ba93-b279-455f-be01-d0007e7ac8b2"
      },
      "source": [
        "# verificando as primeiras linhas do dataframe\n",
        "df.head()"
      ],
      "execution_count": 49,
      "outputs": [
        {
          "output_type": "execute_result",
          "data": {
            "text/html": [
              "<div>\n",
              "<style scoped>\n",
              "    .dataframe tbody tr th:only-of-type {\n",
              "        vertical-align: middle;\n",
              "    }\n",
              "\n",
              "    .dataframe tbody tr th {\n",
              "        vertical-align: top;\n",
              "    }\n",
              "\n",
              "    .dataframe thead th {\n",
              "        text-align: right;\n",
              "    }\n",
              "</style>\n",
              "<table border=\"1\" class=\"dataframe\">\n",
              "  <thead>\n",
              "    <tr style=\"text-align: right;\">\n",
              "      <th></th>\n",
              "      <th>NOME</th>\n",
              "      <th>SIGLA</th>\n",
              "      <th>LOGRADOURO</th>\n",
              "      <th>BAIRRO</th>\n",
              "      <th>CIDADE</th>\n",
              "      <th>UF</th>\n",
              "      <th>CEP</th>\n",
              "    </tr>\n",
              "  </thead>\n",
              "  <tbody>\n",
              "    <tr>\n",
              "      <th>0</th>\n",
              "      <td>Academia Militar das Agulhas Negras</td>\n",
              "      <td>AMAN</td>\n",
              "      <td>RODOVIA PRESIDENTE DUTRA, KM 306</td>\n",
              "      <td>CENTRO</td>\n",
              "      <td>Resende</td>\n",
              "      <td>RJ</td>\n",
              "      <td>27534970.0</td>\n",
              "    </tr>\n",
              "    <tr>\n",
              "      <th>1</th>\n",
              "      <td>Administração do Monumento Nacional aos Mortos...</td>\n",
              "      <td>AMNM  2ª GM</td>\n",
              "      <td>AV INF DOM HENRIQUE 75</td>\n",
              "      <td>GLORIA</td>\n",
              "      <td>Rio de Janeiro</td>\n",
              "      <td>RJ</td>\n",
              "      <td>20021140.0</td>\n",
              "    </tr>\n",
              "    <tr>\n",
              "      <th>2</th>\n",
              "      <td>Agência de Gestão e Inovação Tecnólogica</td>\n",
              "      <td>AGITEC</td>\n",
              "      <td>NaN</td>\n",
              "      <td>NaN</td>\n",
              "      <td>Rio de Janeiro</td>\n",
              "      <td>RJ</td>\n",
              "      <td>NaN</td>\n",
              "    </tr>\n",
              "    <tr>\n",
              "      <th>3</th>\n",
              "      <td>Arquivo Histórico do Exército</td>\n",
              "      <td>AHEx</td>\n",
              "      <td>PRAÇA DUQUE DE CAXIAS, 25 - 6º ANDAR</td>\n",
              "      <td>CENTRO</td>\n",
              "      <td>Rio de Janeiro</td>\n",
              "      <td>RJ</td>\n",
              "      <td>20221260.0</td>\n",
              "    </tr>\n",
              "    <tr>\n",
              "      <th>4</th>\n",
              "      <td>Arsenal de Guerra de São Paulo</td>\n",
              "      <td>AGSP</td>\n",
              "      <td>RODOVIA MAL RONDON, KM 29</td>\n",
              "      <td>CENTRO</td>\n",
              "      <td>Barueri</td>\n",
              "      <td>SP</td>\n",
              "      <td>6442000.0</td>\n",
              "    </tr>\n",
              "  </tbody>\n",
              "</table>\n",
              "</div>"
            ],
            "text/plain": [
              "                                                NOME  ...         CEP\n",
              "0                Academia Militar das Agulhas Negras  ...  27534970.0\n",
              "1  Administração do Monumento Nacional aos Mortos...  ...  20021140.0\n",
              "2           Agência de Gestão e Inovação Tecnólogica  ...         NaN\n",
              "3                      Arquivo Histórico do Exército  ...  20221260.0\n",
              "4                     Arsenal de Guerra de São Paulo  ...   6442000.0\n",
              "\n",
              "[5 rows x 7 columns]"
            ]
          },
          "metadata": {
            "tags": []
          },
          "execution_count": 49
        }
      ]
    },
    {
      "cell_type": "code",
      "metadata": {
        "id": "uTYb3LmFwmzh",
        "colab_type": "code",
        "colab": {
          "base_uri": "https://localhost:8080/",
          "height": 34
        },
        "outputId": "9e065164-d057-4f8b-a6cd-7bff89a79ab6"
      },
      "source": [
        "# verificando a quantidade de instâncias que equivalem ao número de Organizações Militares do Exército Brasileiro\n",
        "qtd_OM = df.shape[0]\n",
        "print(f\"Quantidade de organizações Militares: {qtd_OM}\")"
      ],
      "execution_count": 70,
      "outputs": [
        {
          "output_type": "stream",
          "text": [
            "Quantidade de organizações Militares: 1361\n"
          ],
          "name": "stdout"
        }
      ]
    },
    {
      "cell_type": "code",
      "metadata": {
        "id": "AmrIFi0YvHuW",
        "colab_type": "code",
        "colab": {
          "base_uri": "https://localhost:8080/",
          "height": 34
        },
        "outputId": "3193fa14-d5af-451d-8b0d-344060493139"
      },
      "source": [
        "# verifcando quantitativo e nomes das colunas\n",
        "df.columns"
      ],
      "execution_count": 58,
      "outputs": [
        {
          "output_type": "execute_result",
          "data": {
            "text/plain": [
              "Index(['NOME', 'SIGLA', 'LOGRADOURO', 'BAIRRO', 'CIDADE', 'UF', 'CEP'], dtype='object')"
            ]
          },
          "metadata": {
            "tags": []
          },
          "execution_count": 58
        }
      ]
    },
    {
      "cell_type": "code",
      "metadata": {
        "id": "q_NTFgAKvSIW",
        "colab_type": "code",
        "colab": {
          "base_uri": "https://localhost:8080/",
          "height": 221
        },
        "outputId": "71f33b67-77e8-488b-e71d-945724b4d643"
      },
      "source": [
        "#Cidade que possui maior número de organizações\n",
        "df[\"CIDADE\"].value_counts()"
      ],
      "execution_count": 73,
      "outputs": [
        {
          "output_type": "execute_result",
          "data": {
            "text/plain": [
              "Rio de Janeiro    115\n",
              "Brasília           72\n",
              "Manaus             27\n",
              "Porto Alegre       27\n",
              "Recife             25\n",
              "                 ... \n",
              "Passos              1\n",
              "Cruz das Almas      1\n",
              "Guaratinguetá       1\n",
              "Ceará-Mirim         1\n",
              "Jacareí             1\n",
              "Name: CIDADE, Length: 501, dtype: int64"
            ]
          },
          "metadata": {
            "tags": []
          },
          "execution_count": 73
        }
      ]
    },
    {
      "cell_type": "code",
      "metadata": {
        "id": "-jsUniXytIMe",
        "colab_type": "code",
        "colab": {
          "base_uri": "https://localhost:8080/",
          "height": 410
        },
        "outputId": "e598fc1c-3556-4aea-d31d-53274a9f79e2"
      },
      "source": [
        "# plotando o quantitativo de organizações militares por Estado\n",
        "qtd_UF = df[\"UF\"].value_counts()\n",
        "qtd_UF.plot(kind=\"bar\", figsize = (14,6))\n",
        "plt.title(\"Quantitativo de Organizações Militares por Estado\")\n",
        "plt.xlabel(\"Estados\")\n",
        "plt.ylabel(\"Quantitades de Organizações\")\n",
        "plt.show\n"
      ],
      "execution_count": 57,
      "outputs": [
        {
          "output_type": "display_data",
          "data": {
            "image/png": "[encoded data removed]",
            "text/plain": [
              "<Figure size 1008x432 with 1 Axes>"
            ]
          },
          "metadata": {
            "tags": [],
            "needs_background": "light"
          }
        }
      ]
    },
    {
      "cell_type": "code",
      "metadata": {
        "id": "cdwdbwJqJ30a",
        "colab_type": "code",
        "colab": {
          "base_uri": "https://localhost:8080/",
          "height": 763
        },
        "outputId": "51d5038f-5b83-4137-a798-b6954b7d9503"
      },
      "source": [
        "# importando o Folium e usando Brasília para centralizar o Mapa\n",
        "import folium\n",
        "brazil_map = folium.Map(\n",
        "    location = [ -4.605735, -53.592994],\n",
        "    zoom_start = 5,\n",
        ")\n",
        "\n",
        "#display map\n",
        "brazil_map"
      ],
      "execution_count": 85,
      "outputs": [
        {
          "output_type": "execute_result",
          "data": {
            "text/html": [
              "<div style=\"width:100%;\"><div style=\"position:relative;width:100%;height:0;padding-bottom:60%;\"><span style=\"color:#565656\">Make this Notebook Trusted to load map: File -> Trust Notebook</span><iframe src=\"about:blank\" style=\"position:absolute;width:100%;height:100%;left:0;top:0;border:none !important;\" data-html=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 onload=\"this.contentDocument.open();this.contentDocument.write(atob(this.getAttribute('data-html')));this.contentDocument.close();\" allowfullscreen webkitallowfullscreen mozallowfullscreen></iframe></div></div>"
            ],
            "text/plain": [
              "<folium.folium.Map at 0x7fb518aff080>"
            ]
          },
          "metadata": {
            "tags": []
          },
          "execution_count": 85
        }
      ]
    },
    {
      "cell_type": "code",
      "metadata": {
        "id": "_-dP9z-uKlSj",
        "colab_type": "code",
        "colab": {
          "base_uri": "https://localhost:8080/",
          "height": 763
        },
        "outputId": "2be5d911-172d-4434-e828-a5a67c0a93cb"
      },
      "source": [
        "om = folium.map.FeatureGroup()\n",
        "om.add_child(\n",
        "        folium.Marker(\n",
        "        location = [-15.825703, -47.922253],\n",
        "        icon=None,\n",
        "        popup=\"Bras&iacute;lia: 115 Organiza&ccedil;&otilde;es\",\n",
        "    ).add_to(om)\n",
        "    )\n",
        "brazil_map.add_child(om)   "
      ],
      "execution_count": 98,
      "outputs": [
        {
          "output_type": "execute_result",
          "data": {
            "text/html": [
              "<div style=\"width:100%;\"><div style=\"position:relative;width:100%;height:0;padding-bottom:60%;\"><span style=\"color:#565656\">Make this Notebook Trusted to load map: File -> Trust Notebook</span><iframe src=\"about:blank\" style=\"position:absolute;width:100%;height:100%;left:0;top:0;border:none !important;\" data-html=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 onload=\"this.contentDocument.open();this.contentDocument.write(atob(this.getAttribute('data-html')));this.contentDocument.close();\" allowfullscreen webkitallowfullscreen mozallowfullscreen></iframe></div></div>"
            ],
            "text/plain": [
              "<folium.folium.Map at 0x7fb518aff080>"
            ]
          },
          "metadata": {
            "tags": []
          },
          "execution_count": 98
        }
      ]
    },
    {
      "cell_type": "code",
      "metadata": {
        "id": "It1i_yuT2uJV",
        "colab_type": "code",
        "colab": {}
      },
      "source": [
        ""
      ],
      "execution_count": null,
      "outputs": []
    }
  ]
}